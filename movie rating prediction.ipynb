{
 "cells": [
  {
   "cell_type": "code",
   "execution_count": 1,
   "metadata": {},
   "outputs": [],
   "source": [
    "import pandas as pd\n",
    "import numpy as np\n",
    "import seaborn as sns\n",
    "import matplotlib.pyplot as plt\n",
    "import plotly.express as px\n",
    "import plotly.graph_objects as go"
   ]
  },
  {
   "cell_type": "markdown",
   "metadata": {},
   "source": [
    "import the data set"
   ]
  },
  {
   "cell_type": "code",
   "execution_count": 6,
   "metadata": {},
   "outputs": [
    {
     "data": {
      "text/html": [
       "<div>\n",
       "<style scoped>\n",
       "    .dataframe tbody tr th:only-of-type {\n",
       "        vertical-align: middle;\n",
       "    }\n",
       "\n",
       "    .dataframe tbody tr th {\n",
       "        vertical-align: top;\n",
       "    }\n",
       "\n",
       "    .dataframe thead th {\n",
       "        text-align: right;\n",
       "    }\n",
       "</style>\n",
       "<table border=\"1\" class=\"dataframe\">\n",
       "  <thead>\n",
       "    <tr style=\"text-align: right;\">\n",
       "      <th></th>\n",
       "      <th>Name</th>\n",
       "      <th>Year</th>\n",
       "      <th>Duration</th>\n",
       "      <th>Genre</th>\n",
       "      <th>Rating</th>\n",
       "      <th>Votes</th>\n",
       "      <th>Director</th>\n",
       "      <th>Actor 1</th>\n",
       "      <th>Actor 2</th>\n",
       "      <th>Actor 3</th>\n",
       "    </tr>\n",
       "  </thead>\n",
       "  <tbody>\n",
       "    <tr>\n",
       "      <th>0</th>\n",
       "      <td></td>\n",
       "      <td>NaN</td>\n",
       "      <td>NaN</td>\n",
       "      <td>Drama</td>\n",
       "      <td>NaN</td>\n",
       "      <td>NaN</td>\n",
       "      <td>J.S. Randhawa</td>\n",
       "      <td>Manmauji</td>\n",
       "      <td>Birbal</td>\n",
       "      <td>Rajendra Bhatia</td>\n",
       "    </tr>\n",
       "    <tr>\n",
       "      <th>1</th>\n",
       "      <td>#Gadhvi (He thought he was Gandhi)</td>\n",
       "      <td>(2019)</td>\n",
       "      <td>109 min</td>\n",
       "      <td>Drama</td>\n",
       "      <td>7.0</td>\n",
       "      <td>8</td>\n",
       "      <td>Gaurav Bakshi</td>\n",
       "      <td>Rasika Dugal</td>\n",
       "      <td>Vivek Ghamande</td>\n",
       "      <td>Arvind Jangid</td>\n",
       "    </tr>\n",
       "    <tr>\n",
       "      <th>2</th>\n",
       "      <td>#Homecoming</td>\n",
       "      <td>(2021)</td>\n",
       "      <td>90 min</td>\n",
       "      <td>Drama, Musical</td>\n",
       "      <td>NaN</td>\n",
       "      <td>NaN</td>\n",
       "      <td>Soumyajit Majumdar</td>\n",
       "      <td>Sayani Gupta</td>\n",
       "      <td>Plabita Borthakur</td>\n",
       "      <td>Roy Angana</td>\n",
       "    </tr>\n",
       "    <tr>\n",
       "      <th>3</th>\n",
       "      <td>#Yaaram</td>\n",
       "      <td>(2019)</td>\n",
       "      <td>110 min</td>\n",
       "      <td>Comedy, Romance</td>\n",
       "      <td>4.4</td>\n",
       "      <td>35</td>\n",
       "      <td>Ovais Khan</td>\n",
       "      <td>Prateik</td>\n",
       "      <td>Ishita Raj</td>\n",
       "      <td>Siddhant Kapoor</td>\n",
       "    </tr>\n",
       "    <tr>\n",
       "      <th>4</th>\n",
       "      <td>...And Once Again</td>\n",
       "      <td>(2010)</td>\n",
       "      <td>105 min</td>\n",
       "      <td>Drama</td>\n",
       "      <td>NaN</td>\n",
       "      <td>NaN</td>\n",
       "      <td>Amol Palekar</td>\n",
       "      <td>Rajat Kapoor</td>\n",
       "      <td>Rituparna Sengupta</td>\n",
       "      <td>Antara Mali</td>\n",
       "    </tr>\n",
       "    <tr>\n",
       "      <th>...</th>\n",
       "      <td>...</td>\n",
       "      <td>...</td>\n",
       "      <td>...</td>\n",
       "      <td>...</td>\n",
       "      <td>...</td>\n",
       "      <td>...</td>\n",
       "      <td>...</td>\n",
       "      <td>...</td>\n",
       "      <td>...</td>\n",
       "      <td>...</td>\n",
       "    </tr>\n",
       "    <tr>\n",
       "      <th>15504</th>\n",
       "      <td>Zulm Ko Jala Doonga</td>\n",
       "      <td>(1988)</td>\n",
       "      <td>NaN</td>\n",
       "      <td>Action</td>\n",
       "      <td>4.6</td>\n",
       "      <td>11</td>\n",
       "      <td>Mahendra Shah</td>\n",
       "      <td>Naseeruddin Shah</td>\n",
       "      <td>Sumeet Saigal</td>\n",
       "      <td>Suparna Anand</td>\n",
       "    </tr>\n",
       "    <tr>\n",
       "      <th>15505</th>\n",
       "      <td>Zulmi</td>\n",
       "      <td>(1999)</td>\n",
       "      <td>129 min</td>\n",
       "      <td>Action, Drama</td>\n",
       "      <td>4.5</td>\n",
       "      <td>655</td>\n",
       "      <td>Kuku Kohli</td>\n",
       "      <td>Akshay Kumar</td>\n",
       "      <td>Twinkle Khanna</td>\n",
       "      <td>Aruna Irani</td>\n",
       "    </tr>\n",
       "    <tr>\n",
       "      <th>15506</th>\n",
       "      <td>Zulmi Raj</td>\n",
       "      <td>(2005)</td>\n",
       "      <td>NaN</td>\n",
       "      <td>Action</td>\n",
       "      <td>NaN</td>\n",
       "      <td>NaN</td>\n",
       "      <td>Kiran Thej</td>\n",
       "      <td>Sangeeta Tiwari</td>\n",
       "      <td>NaN</td>\n",
       "      <td>NaN</td>\n",
       "    </tr>\n",
       "    <tr>\n",
       "      <th>15507</th>\n",
       "      <td>Zulmi Shikari</td>\n",
       "      <td>(1988)</td>\n",
       "      <td>NaN</td>\n",
       "      <td>Action</td>\n",
       "      <td>NaN</td>\n",
       "      <td>NaN</td>\n",
       "      <td>NaN</td>\n",
       "      <td>NaN</td>\n",
       "      <td>NaN</td>\n",
       "      <td>NaN</td>\n",
       "    </tr>\n",
       "    <tr>\n",
       "      <th>15508</th>\n",
       "      <td>Zulm-O-Sitam</td>\n",
       "      <td>(1998)</td>\n",
       "      <td>130 min</td>\n",
       "      <td>Action, Drama</td>\n",
       "      <td>6.2</td>\n",
       "      <td>20</td>\n",
       "      <td>K.C. Bokadia</td>\n",
       "      <td>Dharmendra</td>\n",
       "      <td>Jaya Prada</td>\n",
       "      <td>Arjun Sarja</td>\n",
       "    </tr>\n",
       "  </tbody>\n",
       "</table>\n",
       "<p>15509 rows × 10 columns</p>\n",
       "</div>"
      ],
      "text/plain": [
       "                                     Name    Year Duration            Genre  \\\n",
       "0                                             NaN      NaN            Drama   \n",
       "1      #Gadhvi (He thought he was Gandhi)  (2019)  109 min            Drama   \n",
       "2                             #Homecoming  (2021)   90 min   Drama, Musical   \n",
       "3                                 #Yaaram  (2019)  110 min  Comedy, Romance   \n",
       "4                       ...And Once Again  (2010)  105 min            Drama   \n",
       "...                                   ...     ...      ...              ...   \n",
       "15504                 Zulm Ko Jala Doonga  (1988)      NaN           Action   \n",
       "15505                               Zulmi  (1999)  129 min    Action, Drama   \n",
       "15506                           Zulmi Raj  (2005)      NaN           Action   \n",
       "15507                       Zulmi Shikari  (1988)      NaN           Action   \n",
       "15508                        Zulm-O-Sitam  (1998)  130 min    Action, Drama   \n",
       "\n",
       "       Rating Votes            Director           Actor 1             Actor 2  \\\n",
       "0         NaN   NaN       J.S. Randhawa          Manmauji              Birbal   \n",
       "1         7.0     8       Gaurav Bakshi      Rasika Dugal      Vivek Ghamande   \n",
       "2         NaN   NaN  Soumyajit Majumdar      Sayani Gupta   Plabita Borthakur   \n",
       "3         4.4    35          Ovais Khan           Prateik          Ishita Raj   \n",
       "4         NaN   NaN        Amol Palekar      Rajat Kapoor  Rituparna Sengupta   \n",
       "...       ...   ...                 ...               ...                 ...   \n",
       "15504     4.6    11       Mahendra Shah  Naseeruddin Shah       Sumeet Saigal   \n",
       "15505     4.5   655          Kuku Kohli      Akshay Kumar      Twinkle Khanna   \n",
       "15506     NaN   NaN          Kiran Thej   Sangeeta Tiwari                 NaN   \n",
       "15507     NaN   NaN                 NaN               NaN                 NaN   \n",
       "15508     6.2    20        K.C. Bokadia        Dharmendra          Jaya Prada   \n",
       "\n",
       "               Actor 3  \n",
       "0      Rajendra Bhatia  \n",
       "1        Arvind Jangid  \n",
       "2           Roy Angana  \n",
       "3      Siddhant Kapoor  \n",
       "4          Antara Mali  \n",
       "...                ...  \n",
       "15504    Suparna Anand  \n",
       "15505      Aruna Irani  \n",
       "15506              NaN  \n",
       "15507              NaN  \n",
       "15508      Arjun Sarja  \n",
       "\n",
       "[15509 rows x 10 columns]"
      ]
     },
     "execution_count": 6,
     "metadata": {},
     "output_type": "execute_result"
    }
   ],
   "source": [
    "df=pd.read_csv(\"C:\\\\Users\\\\hp\\\\Desktop\\\\datasts\\\\sssss\\\\movies.csv\",encoding='latin1')\n",
    "df"
   ]
  },
  {
   "cell_type": "code",
   "execution_count": 7,
   "metadata": {},
   "outputs": [
    {
     "name": "stdout",
     "output_type": "stream",
     "text": [
      "<class 'pandas.core.frame.DataFrame'>\n",
      "RangeIndex: 15509 entries, 0 to 15508\n",
      "Data columns (total 10 columns):\n",
      " #   Column    Non-Null Count  Dtype  \n",
      "---  ------    --------------  -----  \n",
      " 0   Name      15509 non-null  object \n",
      " 1   Year      14981 non-null  object \n",
      " 2   Duration  7240 non-null   object \n",
      " 3   Genre     13632 non-null  object \n",
      " 4   Rating    7919 non-null   float64\n",
      " 5   Votes     7920 non-null   object \n",
      " 6   Director  14984 non-null  object \n",
      " 7   Actor 1   13892 non-null  object \n",
      " 8   Actor 2   13125 non-null  object \n",
      " 9   Actor 3   12365 non-null  object \n",
      "dtypes: float64(1), object(9)\n",
      "memory usage: 1.2+ MB\n"
     ]
    }
   ],
   "source": [
    "df.info()"
   ]
  },
  {
   "cell_type": "markdown",
   "metadata": {},
   "source": [
    "to check the shape of the data set"
   ]
  },
  {
   "cell_type": "code",
   "execution_count": 8,
   "metadata": {},
   "outputs": [
    {
     "data": {
      "text/plain": [
       "(15509, 10)"
      ]
     },
     "execution_count": 8,
     "metadata": {},
     "output_type": "execute_result"
    }
   ],
   "source": [
    "df.shape"
   ]
  },
  {
   "cell_type": "markdown",
   "metadata": {},
   "source": [
    "to find the all column name"
   ]
  },
  {
   "cell_type": "code",
   "execution_count": 9,
   "metadata": {},
   "outputs": [
    {
     "data": {
      "text/plain": [
       "Index(['Name', 'Year', 'Duration', 'Genre', 'Rating', 'Votes', 'Director',\n",
       "       'Actor 1', 'Actor 2', 'Actor 3'],\n",
       "      dtype='object')"
      ]
     },
     "execution_count": 9,
     "metadata": {},
     "output_type": "execute_result"
    }
   ],
   "source": [
    "df.columns"
   ]
  },
  {
   "cell_type": "markdown",
   "metadata": {},
   "source": [
    "delete the unwanted column"
   ]
  },
  {
   "cell_type": "code",
   "execution_count": 10,
   "metadata": {},
   "outputs": [
    {
     "data": {
      "text/html": [
       "<div>\n",
       "<style scoped>\n",
       "    .dataframe tbody tr th:only-of-type {\n",
       "        vertical-align: middle;\n",
       "    }\n",
       "\n",
       "    .dataframe tbody tr th {\n",
       "        vertical-align: top;\n",
       "    }\n",
       "\n",
       "    .dataframe thead th {\n",
       "        text-align: right;\n",
       "    }\n",
       "</style>\n",
       "<table border=\"1\" class=\"dataframe\">\n",
       "  <thead>\n",
       "    <tr style=\"text-align: right;\">\n",
       "      <th></th>\n",
       "      <th>Year</th>\n",
       "      <th>Duration</th>\n",
       "      <th>Genre</th>\n",
       "      <th>Rating</th>\n",
       "      <th>Votes</th>\n",
       "      <th>Director</th>\n",
       "      <th>Actor 1</th>\n",
       "    </tr>\n",
       "  </thead>\n",
       "  <tbody>\n",
       "    <tr>\n",
       "      <th>0</th>\n",
       "      <td>NaN</td>\n",
       "      <td>NaN</td>\n",
       "      <td>Drama</td>\n",
       "      <td>NaN</td>\n",
       "      <td>NaN</td>\n",
       "      <td>J.S. Randhawa</td>\n",
       "      <td>Manmauji</td>\n",
       "    </tr>\n",
       "    <tr>\n",
       "      <th>1</th>\n",
       "      <td>(2019)</td>\n",
       "      <td>109 min</td>\n",
       "      <td>Drama</td>\n",
       "      <td>7.0</td>\n",
       "      <td>8</td>\n",
       "      <td>Gaurav Bakshi</td>\n",
       "      <td>Rasika Dugal</td>\n",
       "    </tr>\n",
       "    <tr>\n",
       "      <th>2</th>\n",
       "      <td>(2021)</td>\n",
       "      <td>90 min</td>\n",
       "      <td>Drama, Musical</td>\n",
       "      <td>NaN</td>\n",
       "      <td>NaN</td>\n",
       "      <td>Soumyajit Majumdar</td>\n",
       "      <td>Sayani Gupta</td>\n",
       "    </tr>\n",
       "    <tr>\n",
       "      <th>3</th>\n",
       "      <td>(2019)</td>\n",
       "      <td>110 min</td>\n",
       "      <td>Comedy, Romance</td>\n",
       "      <td>4.4</td>\n",
       "      <td>35</td>\n",
       "      <td>Ovais Khan</td>\n",
       "      <td>Prateik</td>\n",
       "    </tr>\n",
       "    <tr>\n",
       "      <th>4</th>\n",
       "      <td>(2010)</td>\n",
       "      <td>105 min</td>\n",
       "      <td>Drama</td>\n",
       "      <td>NaN</td>\n",
       "      <td>NaN</td>\n",
       "      <td>Amol Palekar</td>\n",
       "      <td>Rajat Kapoor</td>\n",
       "    </tr>\n",
       "  </tbody>\n",
       "</table>\n",
       "</div>"
      ],
      "text/plain": [
       "     Year Duration            Genre  Rating Votes            Director  \\\n",
       "0     NaN      NaN            Drama     NaN   NaN       J.S. Randhawa   \n",
       "1  (2019)  109 min            Drama     7.0     8       Gaurav Bakshi   \n",
       "2  (2021)   90 min   Drama, Musical     NaN   NaN  Soumyajit Majumdar   \n",
       "3  (2019)  110 min  Comedy, Romance     4.4    35          Ovais Khan   \n",
       "4  (2010)  105 min            Drama     NaN   NaN        Amol Palekar   \n",
       "\n",
       "        Actor 1  \n",
       "0      Manmauji  \n",
       "1  Rasika Dugal  \n",
       "2  Sayani Gupta  \n",
       "3       Prateik  \n",
       "4  Rajat Kapoor  "
      ]
     },
     "execution_count": 10,
     "metadata": {},
     "output_type": "execute_result"
    }
   ],
   "source": [
    "df=df.drop(columns=['Name', 'Actor 2', 'Actor 3'], errors='ignore')\n",
    "df.head()\n"
   ]
  },
  {
   "cell_type": "code",
   "execution_count": 11,
   "metadata": {},
   "outputs": [],
   "source": [
    "df.dropna(inplace=True)"
   ]
  },
  {
   "cell_type": "code",
   "execution_count": 12,
   "metadata": {},
   "outputs": [
    {
     "data": {
      "text/plain": [
       "(5746, 7)"
      ]
     },
     "execution_count": 12,
     "metadata": {},
     "output_type": "execute_result"
    }
   ],
   "source": [
    "df.drop_duplicates(inplace=True)\n",
    "df.shape"
   ]
  },
  {
   "cell_type": "markdown",
   "metadata": {},
   "source": [
    "handling columns"
   ]
  },
  {
   "cell_type": "code",
   "execution_count": 13,
   "metadata": {},
   "outputs": [
    {
     "data": {
      "text/plain": [
       "array(['(2019)', '(1997)', '(2005)', '(2012)', '(2014)', '(2004)',\n",
       "       '(2016)', '(1991)', '(2018)', '(2010)', '(1958)', '(2021)',\n",
       "       '(2017)', '(2009)', '(1993)', '(2002)', '(2008)', '(1994)',\n",
       "       '(2007)', '(2003)', '(1998)', '(1979)', '(1974)', '(2015)',\n",
       "       '(2006)', '(1981)', '(2020)', '(1985)', '(2013)', '(2011)',\n",
       "       '(1988)', '(1987)', '(1996)', '(1999)', '(1973)', '(1968)',\n",
       "       '(1982)', '(1977)', '(1950)', '(1969)', '(1948)', '(1990)',\n",
       "       '(1989)', '(2001)', '(2000)', '(1953)', '(1978)', '(1963)',\n",
       "       '(1992)', '(1976)', '(1984)', '(1986)', '(1966)', '(1975)',\n",
       "       '(1980)', '(1967)', '(1970)', '(1952)', '(1972)', '(1971)',\n",
       "       '(1964)', '(1954)', '(1962)', '(1957)', '(1965)', '(1995)',\n",
       "       '(1956)', '(1955)', '(1936)', '(1983)', '(1951)', '(1961)',\n",
       "       '(1959)', '(1949)', '(1960)', '(1946)', '(1940)', '(1945)',\n",
       "       '(1938)', '(1941)', '(1942)', '(1935)', '(1937)', '(1947)',\n",
       "       '(1931)', '(1933)', '(1943)', '(1944)', '(1932)', '(1939)',\n",
       "       '(1934)'], dtype=object)"
      ]
     },
     "execution_count": 13,
     "metadata": {},
     "output_type": "execute_result"
    }
   ],
   "source": [
    "df['Year'].unique()"
   ]
  },
  {
   "cell_type": "code",
   "execution_count": 14,
   "metadata": {},
   "outputs": [
    {
     "data": {
      "text/plain": [
       "1    2019\n",
       "3    2019\n",
       "5    1997\n",
       "6    2005\n",
       "8    2012\n",
       "Name: Year, dtype: int64"
      ]
     },
     "execution_count": 14,
     "metadata": {},
     "output_type": "execute_result"
    }
   ],
   "source": [
    "def handleyear(value):\n",
    "    value=str(value).strip('()')\n",
    "    return int(value)\n",
    "df['Year']=df['Year'].apply(handleyear)\n",
    "df['Year'].head()"
   ]
  },
  {
   "cell_type": "code",
   "execution_count": 15,
   "metadata": {},
   "outputs": [
    {
     "data": {
      "text/plain": [
       "array(['109 min', '110 min', '147 min', '142 min', '82 min', '116 min',\n",
       "       '96 min', '120 min', '161 min', '166 min', '102 min', '87 min',\n",
       "       '132 min', '105 min', '146 min', '168 min', '158 min', '126 min',\n",
       "       '94 min', '138 min', '124 min', '144 min', '157 min', '136 min',\n",
       "       '107 min', '113 min', '80 min', '122 min', '149 min', '148 min',\n",
       "       '130 min', '121 min', '188 min', '115 min', '103 min', '114 min',\n",
       "       '170 min', '100 min', '99 min', '140 min', '128 min', '93 min',\n",
       "       '125 min', '145 min', '75 min', '111 min', '134 min', '104 min',\n",
       "       '92 min', '137 min', '127 min', '119 min', '135 min', '90 min',\n",
       "       '150 min', '151 min', '95 min', '52 min', '89 min', '112 min',\n",
       "       '143 min', '177 min', '117 min', '123 min', '72 min', '154 min',\n",
       "       '175 min', '153 min', '78 min', '139 min', '133 min', '180 min',\n",
       "       '46 min', '164 min', '162 min', '171 min', '160 min', '152 min',\n",
       "       '163 min', '165 min', '141 min', '129 min', '156 min', '240 min',\n",
       "       '172 min', '88 min', '155 min', '167 min', '106 min', '193 min',\n",
       "       '108 min', '195 min', '174 min', '81 min', '178 min', '58 min',\n",
       "       '184 min', '97 min', '176 min', '169 min', '131 min', '77 min',\n",
       "       '91 min', '86 min', '84 min', '173 min', '74 min', '118 min',\n",
       "       '181 min', '300 min', '70 min', '101 min', '79 min', '65 min',\n",
       "       '48 min', '183 min', '159 min', '83 min', '68 min', '201 min',\n",
       "       '64 min', '186 min', '85 min', '98 min', '49 min', '60 min',\n",
       "       '207 min', '76 min', '185 min', '59 min', '187 min', '216 min',\n",
       "       '66 min', '51 min', '71 min', '45 min', '73 min', '57 min',\n",
       "       '62 min', '191 min', '321 min', '50 min', '199 min', '179 min',\n",
       "       '47 min', '206 min', '63 min', '211 min', '247 min', '56 min',\n",
       "       '213 min', '210 min', '190 min', '223 min', '189 min', '224 min',\n",
       "       '202 min', '69 min', '255 min', '197 min', '182 min', '214 min',\n",
       "       '208 min', '21 min', '200 min', '192 min', '55 min', '54 min',\n",
       "       '238 min', '67 min', '61 min', '204 min', '235 min', '217 min',\n",
       "       '250 min'], dtype=object)"
      ]
     },
     "execution_count": 15,
     "metadata": {},
     "output_type": "execute_result"
    }
   ],
   "source": [
    "df['Duration'].unique()"
   ]
  },
  {
   "cell_type": "code",
   "execution_count": 16,
   "metadata": {},
   "outputs": [
    {
     "data": {
      "text/plain": [
       "1    109\n",
       "3    110\n",
       "5    147\n",
       "6    142\n",
       "8     82\n",
       "Name: Duration, dtype: int64"
      ]
     },
     "execution_count": 16,
     "metadata": {},
     "output_type": "execute_result"
    }
   ],
   "source": [
    "def handleDuration(value):\n",
    "    value=str(value).split(' ')\n",
    "    value=value[0]\n",
    "    return int(value)\n",
    "df['Duration']=df['Duration'].apply(handleDuration)\n",
    "df['Duration'].head()"
   ]
  },
  {
   "cell_type": "code",
   "execution_count": 17,
   "metadata": {},
   "outputs": [
    {
     "data": {
      "text/plain": [
       "array(['Drama', 'Comedy, Romance', 'Comedy, Drama, Musical',\n",
       "       'Drama, Romance, War', 'Horror, Mystery, Thriller',\n",
       "       'Action, Crime, Thriller', 'Horror', 'Horror, Romance, Thriller',\n",
       "       'Comedy, Drama, Romance', 'Comedy, Drama', 'Crime, Drama, Mystery',\n",
       "       'Horror, Thriller', 'Comedy, Horror', 'Drama, Horror, Mystery',\n",
       "       'Action, Thriller', 'Action', 'Horror, Mystery, Romance',\n",
       "       'Horror, Mystery', 'Drama, Horror, Romance',\n",
       "       'Action, Drama, History', 'Action, Drama, War', 'Thriller',\n",
       "       'Comedy', 'Adventure, Horror, Mystery', 'Action, Sci-Fi',\n",
       "       'Crime, Mystery, Thriller', 'Drama, History', 'Sport',\n",
       "       'Biography, Drama, History', 'Horror, Romance', 'Crime, Drama',\n",
       "       'Adventure, Drama', 'Comedy, Mystery, Thriller', 'Drama, Romance',\n",
       "       'Crime, Thriller', 'Horror, Sci-Fi, Thriller',\n",
       "       'Drama, Mystery, Thriller', 'Drama, Family, Musical',\n",
       "       'Action, Comedy', 'Action, Adventure, Fantasy', 'Documentary',\n",
       "       'Drama, Horror, Musical', 'Action, Biography, Drama',\n",
       "       'Action, Fantasy, Mystery', 'Adventure, Drama, Mystery',\n",
       "       'Mystery, Thriller', 'Comedy, Crime, Drama', 'Musical, Romance',\n",
       "       'Drama, Thriller', 'Action, Adventure, Comedy', 'Romance',\n",
       "       'Action, Crime, Drama', 'Musical, Romance, Drama',\n",
       "       'Action, Sci-Fi, Thriller', 'Action, Drama, Romance',\n",
       "       'Mystery, Romance', 'Fantasy', 'Drama, Romance, Thriller',\n",
       "       'Drama, Family', 'Action, Comedy, Drama', 'Action, Drama',\n",
       "       'Drama, Musical, Romance', 'Action, Romance', 'Action, Crime',\n",
       "       'Action, Drama, Crime', 'Drama, Family, Music',\n",
       "       'Action, Drama, Family', 'Drama, History, Romance',\n",
       "       'Crime, Drama, Music', 'Sci-Fi', 'Comedy, Drama, Family',\n",
       "       'Crime, Mystery, Romance', 'Action, Comedy, Crime',\n",
       "       'Crime, Drama, Thriller', 'Comedy, Family, Fantasy',\n",
       "       'Romance, Drama', 'Drama, Family, Romance',\n",
       "       'Romance, Drama, Family', 'Musical, Romance, Thriller',\n",
       "       'Family, Musical, Romance', 'Musical, Drama, Romance',\n",
       "       'Drama, Music, Musical', 'Drama, Mystery',\n",
       "       'Adventure, Comedy, Romance', 'Action, Drama, Thriller',\n",
       "       'Crime, Drama, Horror', 'Drama, Horror, Thriller',\n",
       "       'Action, Musical, Thriller', 'Romance, Thriller', 'Drama, Music',\n",
       "       'Drama, Musical', 'Crime, Drama, Musical',\n",
       "       'Action, Mystery, Thriller', 'Action, Crime, Mystery',\n",
       "       'Action, Adventure, Thriller', 'Comedy, Romance, Sci-Fi',\n",
       "       'Action, Drama, Mystery', 'Action, Comedy, Thriller',\n",
       "       'Biography, Drama', 'Action, Comedy, Fantasy',\n",
       "       'Drama, Family, Horror', 'Adventure', 'Action, Adventure, Family',\n",
       "       'Action, Drama, Musical', 'Adventure, Thriller', 'Crime, Mystery',\n",
       "       'Adventure, Comedy, Drama', 'Drama, Crime',\n",
       "       'Drama, Fantasy, Romance', 'Musical, Comedy, Drama',\n",
       "       'Action, Comedy, Romance', 'Drama, History, Musical',\n",
       "       'Action, Crime, Horror', 'Adventure, Fantasy',\n",
       "       'Action, Drama, Fantasy', 'Adventure, Drama, Fantasy',\n",
       "       'Adventure, Fantasy, Romance', 'Action, Adventure, Drama',\n",
       "       'Action, Adventure', 'Adventure, Drama, Romance', 'Family',\n",
       "       'Mystery', 'Drama, Fantasy, Thriller', 'Musical, Fantasy',\n",
       "       'Documentary, Thriller', 'Mystery, Romance, Musical',\n",
       "       'History, Musical, Romance', 'Musical, Drama, Crime',\n",
       "       'Musical, Thriller, Mystery', 'Biography, Drama, Romance',\n",
       "       'Biography', 'History', 'Crime', 'Biography, Drama, Music',\n",
       "       'Drama, Sci-Fi', 'Comedy, Musical, Romance', 'Drama, Sport',\n",
       "       'Drama, Family, Comedy', 'Action, Thriller, Romance',\n",
       "       'Comedy, Romance, Thriller', 'Animation, Adventure',\n",
       "       'Action, Crime, Musical', 'Action, Crime, Romance',\n",
       "       'Animation, Action, Adventure', 'Action, Drama, Sport',\n",
       "       'Documentary, History', 'Comedy, Musical',\n",
       "       'Biography, Crime, Thriller', 'Adventure, Mystery, Thriller',\n",
       "       'Biography, Drama, Sport', 'Action, Romance, Thriller',\n",
       "       'Action, Comedy, Musical', 'Crime, Drama, Romance',\n",
       "       'Mystery, Romance, Thriller', 'Action, Adventure, Musical',\n",
       "       'Crime, Musical, Mystery', 'Action, Thriller, Crime',\n",
       "       'Adventure, Comedy, Crime', 'Comedy, Horror, Musical',\n",
       "       'Family, Thriller', 'Drama, Action, Crime', 'Drama, War',\n",
       "       'Comedy, Drama, Thriller', 'Animation', 'Musical, Drama',\n",
       "       'Action, Drama, Horror', 'Biography, Crime, Drama',\n",
       "       'Action, Drama, Music', 'Adventure, Drama, Family',\n",
       "       'Drama, Romance, Musical', 'Musical', 'War',\n",
       "       'Comedy, Musical, Drama', 'Thriller, Musical, Mystery',\n",
       "       'Documentary, Adventure, Crime', 'Drama, Action, Horror',\n",
       "       'Adventure, Crime, Drama', 'Family, Romance',\n",
       "       'Documentary, Biography, Sport', 'Crime, Fantasy, Mystery',\n",
       "       'Documentary, Biography, Drama', 'Action, Fantasy, Thriller',\n",
       "       'Animation, Drama, History', 'Biography, Drama, Musical',\n",
       "       'Adventure, Drama, History', 'Family, Comedy',\n",
       "       'Comedy, Drama, Music', 'Comedy, Horror, Mystery',\n",
       "       'Comedy, Drama, Fantasy', 'Documentary, History, News',\n",
       "       'Action, Crime, Family', 'Drama, Musical, Mystery',\n",
       "       'Comedy, Family', 'Action, Thriller, Mystery',\n",
       "       'Drama, Family, Fantasy', 'Action, Family', 'Comedy, Thriller',\n",
       "       'Action, Adventure, Mystery', 'Comedy, Action',\n",
       "       'Animation, Drama, Romance', 'Comedy, Crime, Romance',\n",
       "       'Comedy, Drama, Sport', 'Documentary, Crime, History',\n",
       "       'Musical, Mystery, Drama', 'Drama, Family, Thriller',\n",
       "       'Drama, Musical, Thriller', 'Animation, Action, Comedy',\n",
       "       'Drama, Fantasy, Sci-Fi', 'Comedy, Crime', 'Drama, Family, Sport',\n",
       "       'Comedy, Fantasy, Romance', 'Action, Adventure, History',\n",
       "       'Comedy, Family, Romance', 'Animation, Adventure, Fantasy',\n",
       "       'Adventure, Comedy, Family', 'Drama, History, War',\n",
       "       'Action, Musical, Romance', 'Comedy, Romance, Musical',\n",
       "       'Fantasy, Drama', 'Action, Horror, Thriller',\n",
       "       'Action, Horror, Sci-Fi', 'Mystery, Sci-Fi, Thriller',\n",
       "       'Biography, Family', 'Drama, Action, Comedy',\n",
       "       'Drama, Music, Romance', 'Action, Biography, Crime',\n",
       "       'Action, Adventure, Crime', 'Adventure, Drama, Musical',\n",
       "       'Adventure, Drama, Sci-Fi', 'Family, Music, Romance',\n",
       "       'Fantasy, Mystery, Romance', 'Animation, Family',\n",
       "       'Action, Adventure, Romance', 'Romance, Comedy, Drama',\n",
       "       'Animation, Adventure, Comedy', 'Music', 'Crime, Drama, Family',\n",
       "       'Family, Drama', 'Comedy, Crime, Mystery', 'Comedy, Mystery',\n",
       "       'Adventure, Drama, Music', 'Biography, Drama, War',\n",
       "       'Documentary, Comedy, Drama', 'Musical, Drama, Family',\n",
       "       'Drama, Musical, Family', 'Comedy, Crime, Thriller',\n",
       "       'Action, History', 'Adventure, Drama, Thriller',\n",
       "       'Drama, History, Thriller', 'Documentary, Drama', 'Comedy, Sport',\n",
       "       'Animation, Comedy, Family', 'Drama, Fantasy',\n",
       "       'Crime, Romance, Thriller', 'Comedy, Musical, Action',\n",
       "       'Drama, Horror', 'Comedy, Crime, Musical', 'Drama, Family, Action',\n",
       "       'Biography, History', 'History, Romance', 'Drama, History, Sport',\n",
       "       'Animation, Comedy, Drama', 'Drama, Comedy, Family',\n",
       "       'Family, Drama, Thriller', 'Musical, Mystery, Thriller',\n",
       "       'Music, Romance', 'Musical, Comedy, Romance',\n",
       "       'Musical, Action, Drama', 'Action, Musical, War',\n",
       "       'Romance, Comedy', 'Action, Fantasy, Horror',\n",
       "       'Crime, Drama, History', 'Comedy, Drama, Horror',\n",
       "       'Crime, Horror, Thriller', 'Comedy, Sci-Fi',\n",
       "       'Romance, Action, Crime', 'Musical, Thriller',\n",
       "       'Action, Romance, Comedy', 'Comedy, Family, Musical',\n",
       "       'Horror, Drama, Mystery', 'Thriller, Mystery, Family',\n",
       "       'Comedy, Drama, Sci-Fi', 'Documentary, Biography, Crime',\n",
       "       'Comedy, Fantasy', 'Action, Crime, Sci-Fi',\n",
       "       'Action, Horror, Mystery', 'Comedy, War',\n",
       "       'Drama, Fantasy, History', 'Drama, Family, Mystery',\n",
       "       'Adventure, Romance', 'Romance, Action, Drama',\n",
       "       'Comedy, Music, Romance', 'Comedy, Family, Sci-Fi',\n",
       "       'Action, Drama, Western', 'Comedy, Drama, Mystery',\n",
       "       'Action, Romance, Drama', 'Biography, Comedy, Drama',\n",
       "       'Action, Mystery, Romance', 'Action, Musical',\n",
       "       'Drama, Family, History', 'Crime, Musical, Romance',\n",
       "       'Romance, Thriller, Mystery', 'Drama, Crime, Mystery',\n",
       "       'Drama, Mystery, Romance', 'Biography, Drama, Family',\n",
       "       'Action, Family, Mystery', 'Animation, Adventure, Family',\n",
       "       'Comedy, Mystery, Romance', 'Drama, Thriller, Action',\n",
       "       'Drama, Romance, Sport', 'Documentary, Western',\n",
       "       'Musical, Family, Drama', 'Drama, Fantasy, Horror',\n",
       "       'Action, Adventure, Sci-Fi', 'Drama, Action, Musical',\n",
       "       'Drama, Musical, Sport', 'Action, Comedy, Horror',\n",
       "       'Documentary, Music', 'Drama, Fantasy, Musical',\n",
       "       'Action, Fantasy, Musical', 'Animation, Action', 'Comedy, Music',\n",
       "       'Action, Fantasy', 'Fantasy, Musical, Mystery',\n",
       "       'Adventure, Family, Fantasy', 'Drama, Fantasy, War', 'Action, War',\n",
       "       'Animation, Family, Musical', 'Adventure, Biography, Drama',\n",
       "       'Drama, Romance, Family', 'Family, Romance, Drama',\n",
       "       'Documentary, Biography', 'Drama, Adventure, Action',\n",
       "       'Comedy, Crime, Family', 'Biography, Drama, Thriller',\n",
       "       'Action, Comedy, Mystery', 'Romance, Sci-Fi, Thriller',\n",
       "       'Drama, Fantasy, Mystery', 'Thriller, Action',\n",
       "       'Fantasy, Thriller, Action', 'Fantasy, Romance', 'Action, Mystery',\n",
       "       'Adventure, Biography, History', 'Fantasy, Horror, Mystery',\n",
       "       'Crime, Horror, Mystery', 'Action, Adventure, Biography',\n",
       "       'Action, Family, Drama', 'Thriller, Mystery',\n",
       "       'Musical, Drama, Comedy', 'Documentary, Family',\n",
       "       'Action, Fantasy, Sci-Fi', 'Drama, Comedy, Action',\n",
       "       'Documentary, Sport', 'Documentary, Adventure, Music',\n",
       "       'Adventure, History, Thriller', 'Adventure, Horror, Romance',\n",
       "       'Mystery, Musical, Romance', 'Action, Adventure, Horror',\n",
       "       'Action, Crime, History', 'Sci-Fi, Thriller',\n",
       "       'Documentary, Family, History', 'Fantasy, Horror',\n",
       "       'Drama, Mystery, Sci-Fi', 'Animation, Drama, Musical',\n",
       "       'Action, Crime, Fantasy', 'Comedy, Musical, Mystery',\n",
       "       'Romance, Musical, Action', 'Crime, Romance',\n",
       "       'Animation, Family, History', 'Romance, Musical, Comedy',\n",
       "       'Comedy, Drama, History', 'Action, Thriller, War',\n",
       "       'Documentary, Drama, News', 'Documentary, Crime, Mystery',\n",
       "       'Animation, Drama, Adventure', 'Crime, Horror, Romance',\n",
       "       'Fantasy, Horror, Romance', 'Comedy, Fantasy, Musical',\n",
       "       'Animation, Action, Drama', 'Crime, Musical, Thriller',\n",
       "       'Documentary, War', 'Action, Comedy, War', 'Mystery, Sci-Fi',\n",
       "       'Horror, Romance, Sci-Fi', 'Romance, Musical, Drama',\n",
       "       'Documentary, Biography, Musical'], dtype=object)"
      ]
     },
     "execution_count": 17,
     "metadata": {},
     "output_type": "execute_result"
    }
   ],
   "source": [
    "df['Genre'].unique()"
   ]
  },
  {
   "cell_type": "code",
   "execution_count": 18,
   "metadata": {},
   "outputs": [
    {
     "data": {
      "text/html": [
       "<div>\n",
       "<style scoped>\n",
       "    .dataframe tbody tr th:only-of-type {\n",
       "        vertical-align: middle;\n",
       "    }\n",
       "\n",
       "    .dataframe tbody tr th {\n",
       "        vertical-align: top;\n",
       "    }\n",
       "\n",
       "    .dataframe thead th {\n",
       "        text-align: right;\n",
       "    }\n",
       "</style>\n",
       "<table border=\"1\" class=\"dataframe\">\n",
       "  <thead>\n",
       "    <tr style=\"text-align: right;\">\n",
       "      <th></th>\n",
       "      <th>Year</th>\n",
       "      <th>Duration</th>\n",
       "      <th>Genre</th>\n",
       "      <th>Rating</th>\n",
       "      <th>Votes</th>\n",
       "      <th>Director</th>\n",
       "      <th>Actor 1</th>\n",
       "      <th>Genre1</th>\n",
       "      <th>Genre2</th>\n",
       "      <th>Genre3</th>\n",
       "    </tr>\n",
       "  </thead>\n",
       "  <tbody>\n",
       "    <tr>\n",
       "      <th>1</th>\n",
       "      <td>2019</td>\n",
       "      <td>109</td>\n",
       "      <td>Drama</td>\n",
       "      <td>7.0</td>\n",
       "      <td>8</td>\n",
       "      <td>Gaurav Bakshi</td>\n",
       "      <td>Rasika Dugal</td>\n",
       "      <td>Drama</td>\n",
       "      <td>None</td>\n",
       "      <td>None</td>\n",
       "    </tr>\n",
       "    <tr>\n",
       "      <th>3</th>\n",
       "      <td>2019</td>\n",
       "      <td>110</td>\n",
       "      <td>Comedy, Romance</td>\n",
       "      <td>4.4</td>\n",
       "      <td>35</td>\n",
       "      <td>Ovais Khan</td>\n",
       "      <td>Prateik</td>\n",
       "      <td>Comedy</td>\n",
       "      <td>Romance</td>\n",
       "      <td>None</td>\n",
       "    </tr>\n",
       "    <tr>\n",
       "      <th>5</th>\n",
       "      <td>1997</td>\n",
       "      <td>147</td>\n",
       "      <td>Comedy, Drama, Musical</td>\n",
       "      <td>4.7</td>\n",
       "      <td>827</td>\n",
       "      <td>Rahul Rawail</td>\n",
       "      <td>Bobby Deol</td>\n",
       "      <td>Comedy</td>\n",
       "      <td>Drama</td>\n",
       "      <td>Musical</td>\n",
       "    </tr>\n",
       "    <tr>\n",
       "      <th>6</th>\n",
       "      <td>2005</td>\n",
       "      <td>142</td>\n",
       "      <td>Drama, Romance, War</td>\n",
       "      <td>7.4</td>\n",
       "      <td>1,086</td>\n",
       "      <td>Shoojit Sircar</td>\n",
       "      <td>Jimmy Sheirgill</td>\n",
       "      <td>Drama</td>\n",
       "      <td>Romance</td>\n",
       "      <td>War</td>\n",
       "    </tr>\n",
       "    <tr>\n",
       "      <th>8</th>\n",
       "      <td>2012</td>\n",
       "      <td>82</td>\n",
       "      <td>Horror, Mystery, Thriller</td>\n",
       "      <td>5.6</td>\n",
       "      <td>326</td>\n",
       "      <td>Allyson Patel</td>\n",
       "      <td>Yash Dave</td>\n",
       "      <td>Horror</td>\n",
       "      <td>Mystery</td>\n",
       "      <td>Thriller</td>\n",
       "    </tr>\n",
       "    <tr>\n",
       "      <th>...</th>\n",
       "      <td>...</td>\n",
       "      <td>...</td>\n",
       "      <td>...</td>\n",
       "      <td>...</td>\n",
       "      <td>...</td>\n",
       "      <td>...</td>\n",
       "      <td>...</td>\n",
       "      <td>...</td>\n",
       "      <td>...</td>\n",
       "      <td>...</td>\n",
       "    </tr>\n",
       "    <tr>\n",
       "      <th>15493</th>\n",
       "      <td>2015</td>\n",
       "      <td>115</td>\n",
       "      <td>Drama</td>\n",
       "      <td>6.1</td>\n",
       "      <td>408</td>\n",
       "      <td>Mozez Singh</td>\n",
       "      <td>Vicky Kaushal</td>\n",
       "      <td>Drama</td>\n",
       "      <td>None</td>\n",
       "      <td>None</td>\n",
       "    </tr>\n",
       "    <tr>\n",
       "      <th>15494</th>\n",
       "      <td>2001</td>\n",
       "      <td>153</td>\n",
       "      <td>Biography, Drama, History</td>\n",
       "      <td>6.2</td>\n",
       "      <td>1,496</td>\n",
       "      <td>Shyam Benegal</td>\n",
       "      <td>Karisma Kapoor</td>\n",
       "      <td>Biography</td>\n",
       "      <td>Drama</td>\n",
       "      <td>History</td>\n",
       "    </tr>\n",
       "    <tr>\n",
       "      <th>15503</th>\n",
       "      <td>1989</td>\n",
       "      <td>125</td>\n",
       "      <td>Action, Crime, Drama</td>\n",
       "      <td>5.8</td>\n",
       "      <td>44</td>\n",
       "      <td>S.P. Muthuraman</td>\n",
       "      <td>Chiranjeevi</td>\n",
       "      <td>Action</td>\n",
       "      <td>Crime</td>\n",
       "      <td>Drama</td>\n",
       "    </tr>\n",
       "    <tr>\n",
       "      <th>15505</th>\n",
       "      <td>1999</td>\n",
       "      <td>129</td>\n",
       "      <td>Action, Drama</td>\n",
       "      <td>4.5</td>\n",
       "      <td>655</td>\n",
       "      <td>Kuku Kohli</td>\n",
       "      <td>Akshay Kumar</td>\n",
       "      <td>Action</td>\n",
       "      <td>Drama</td>\n",
       "      <td>None</td>\n",
       "    </tr>\n",
       "    <tr>\n",
       "      <th>15508</th>\n",
       "      <td>1998</td>\n",
       "      <td>130</td>\n",
       "      <td>Action, Drama</td>\n",
       "      <td>6.2</td>\n",
       "      <td>20</td>\n",
       "      <td>K.C. Bokadia</td>\n",
       "      <td>Dharmendra</td>\n",
       "      <td>Action</td>\n",
       "      <td>Drama</td>\n",
       "      <td>None</td>\n",
       "    </tr>\n",
       "  </tbody>\n",
       "</table>\n",
       "<p>5746 rows × 10 columns</p>\n",
       "</div>"
      ],
      "text/plain": [
       "       Year  Duration                      Genre  Rating  Votes  \\\n",
       "1      2019       109                      Drama     7.0      8   \n",
       "3      2019       110            Comedy, Romance     4.4     35   \n",
       "5      1997       147     Comedy, Drama, Musical     4.7    827   \n",
       "6      2005       142        Drama, Romance, War     7.4  1,086   \n",
       "8      2012        82  Horror, Mystery, Thriller     5.6    326   \n",
       "...     ...       ...                        ...     ...    ...   \n",
       "15493  2015       115                      Drama     6.1    408   \n",
       "15494  2001       153  Biography, Drama, History     6.2  1,496   \n",
       "15503  1989       125       Action, Crime, Drama     5.8     44   \n",
       "15505  1999       129              Action, Drama     4.5    655   \n",
       "15508  1998       130              Action, Drama     6.2     20   \n",
       "\n",
       "              Director          Actor 1     Genre1    Genre2     Genre3  \n",
       "1        Gaurav Bakshi     Rasika Dugal      Drama      None       None  \n",
       "3           Ovais Khan          Prateik     Comedy   Romance       None  \n",
       "5         Rahul Rawail       Bobby Deol     Comedy     Drama    Musical  \n",
       "6       Shoojit Sircar  Jimmy Sheirgill      Drama   Romance        War  \n",
       "8        Allyson Patel        Yash Dave     Horror   Mystery   Thriller  \n",
       "...                ...              ...        ...       ...        ...  \n",
       "15493      Mozez Singh    Vicky Kaushal      Drama      None       None  \n",
       "15494    Shyam Benegal   Karisma Kapoor  Biography     Drama    History  \n",
       "15503  S.P. Muthuraman      Chiranjeevi     Action     Crime      Drama  \n",
       "15505       Kuku Kohli     Akshay Kumar     Action     Drama       None  \n",
       "15508     K.C. Bokadia       Dharmendra     Action     Drama       None  \n",
       "\n",
       "[5746 rows x 10 columns]"
      ]
     },
     "execution_count": 18,
     "metadata": {},
     "output_type": "execute_result"
    }
   ],
   "source": [
    "def split_genre_column(df,Genre):\n",
    "    df['Genre1']=df[Genre].str.split(',', expand=True)[0]\n",
    "    df['Genre2']=df[Genre].str.split(',', expand=True)[1]\n",
    "    df['Genre3']=df[Genre].str.split(',', expand=True)[2]\n",
    "    return df\n",
    "split_genre_column(df,'Genre')"
   ]
  },
  {
   "cell_type": "code",
   "execution_count": 19,
   "metadata": {},
   "outputs": [
    {
     "data": {
      "text/plain": [
       "Year           0\n",
       "Duration       0\n",
       "Genre          0\n",
       "Rating         0\n",
       "Votes          0\n",
       "Director       0\n",
       "Actor 1        0\n",
       "Genre1         0\n",
       "Genre2      1717\n",
       "Genre3      3412\n",
       "dtype: int64"
      ]
     },
     "execution_count": 19,
     "metadata": {},
     "output_type": "execute_result"
    }
   ],
   "source": [
    "df.isna().sum()"
   ]
  },
  {
   "cell_type": "code",
   "execution_count": 20,
   "metadata": {},
   "outputs": [
    {
     "data": {
      "text/plain": [
       "Year        0\n",
       "Duration    0\n",
       "Genre       0\n",
       "Rating      0\n",
       "Votes       0\n",
       "Director    0\n",
       "Actor 1     0\n",
       "Genre1      0\n",
       "Genre2      0\n",
       "Genre3      0\n",
       "dtype: int64"
      ]
     },
     "execution_count": 20,
     "metadata": {},
     "output_type": "execute_result"
    }
   ],
   "source": [
    "df=df.fillna(0)\n",
    "df.isna().sum()"
   ]
  },
  {
   "cell_type": "code",
   "execution_count": 21,
   "metadata": {},
   "outputs": [
    {
     "data": {
      "text/plain": [
       "array(['8', '35', '827', ..., '70,344', '408', '1,496'], dtype=object)"
      ]
     },
     "execution_count": 21,
     "metadata": {},
     "output_type": "execute_result"
    }
   ],
   "source": [
    "df['Votes'].unique()"
   ]
  },
  {
   "cell_type": "code",
   "execution_count": 22,
   "metadata": {},
   "outputs": [
    {
     "data": {
      "text/plain": [
       "1       8\n",
       "3      35\n",
       "5     827\n",
       "6    1086\n",
       "8     326\n",
       "Name: Votes, dtype: int64"
      ]
     },
     "execution_count": 22,
     "metadata": {},
     "output_type": "execute_result"
    }
   ],
   "source": [
    "def handleVotes(value):\n",
    "    value=str(value).replace(',','')\n",
    "    return int(value)\n",
    "df['Votes']=df['Votes'].apply(handleVotes)\n",
    "df['Votes'].head()"
   ]
  },
  {
   "cell_type": "markdown",
   "metadata": {},
   "source": [
    "release year finding"
   ]
  },
  {
   "cell_type": "code",
   "execution_count": 23,
   "metadata": {},
   "outputs": [
    {
     "data": {
      "text/plain": [
       "1         5\n",
       "3         5\n",
       "5        27\n",
       "6        19\n",
       "8        12\n",
       "         ..\n",
       "15493     9\n",
       "15494    23\n",
       "15503    35\n",
       "15505    25\n",
       "15508    26\n",
       "Name: MovieAge, Length: 5746, dtype: int64"
      ]
     },
     "execution_count": 23,
     "metadata": {},
     "output_type": "execute_result"
    }
   ],
   "source": [
    "df['MovieAge']=2024-df['Year']\n",
    "df['MovieAge']"
   ]
  },
  {
   "cell_type": "code",
   "execution_count": 24,
   "metadata": {},
   "outputs": [
    {
     "data": {
      "text/plain": [
       "<Figure size 1500x1200 with 0 Axes>"
      ]
     },
     "metadata": {},
     "output_type": "display_data"
    },
    {
     "data": {
      "image/png": "[encoded data removed]",
      "text/plain": [
       "<Figure size 250x250 with 2 Axes>"
      ]
     },
     "metadata": {},
     "output_type": "display_data"
    }
   ],
   "source": [
    "Genrecolumns=['Genre1','Genre2','Genre3','Rating']\n",
    "plt.figure(figsize=(15,12))\n",
    "sns.pairplot(df[Genrecolumns],diag_kind='kde',kind='scatter')\n",
    "plt.suptitle('Pairplot of Factorixed and Genre and Rating ',y=1.02)\n",
    "#pd.option_context('mode.use_inf_as_na',True)\n",
    "plt.show()"
   ]
  },
  {
   "cell_type": "code",
   "execution_count": 25,
   "metadata": {},
   "outputs": [
    {
     "data": {
      "image/png": "[encoded data removed]",
      "text/plain": [
       "<Figure size 1000x600 with 1 Axes>"
      ]
     },
     "metadata": {},
     "output_type": "display_data"
    }
   ],
   "source": [
    "plt.figure(figsize=(10,6))\n",
    "sns.histplot(df ['Duration'],bins=20,kde=True,color='lightcoral')\n",
    "plt.title('distribution of duration')\n",
    "plt.xlabel('duration(min)')\n",
    "plt.ylabel('frequency')\n",
    "plt.show()"
   ]
  },
  {
   "cell_type": "code",
   "execution_count": null,
   "metadata": {},
   "outputs": [
    {
     "name": "stderr",
     "output_type": "stream",
     "text": [
      "C:\\Users\\hp\\AppData\\Local\\Temp\\ipykernel_5500\\4163268471.py:2: FutureWarning: \n",
      "\n",
      "Passing `palette` without assigning `hue` is deprecated and will be removed in v0.14.0. Assign the `x` variable to `hue` and set `legend=False` for the same effect.\n",
      "\n",
      "  sns.boxenplot(data=df,x='Year',y='Rating',palette='Spectral')\n"
     ]
    }
   ],
   "source": [
    "plt.figure(figsize=(25,9))\n",
    "sns.boxenplot(data=df,x='Year',y='Rating',palette='Spectral')\n",
    "sns.dark_palette(\"#69d\",reverse=True,as_cmap=True)\n",
    "plt.title('boxplot of rating by year')\n",
    "plt.xlabel('yaer')\n",
    "plt.ylabel('rating')\n",
    "plt.xticks(rotation=45)\n",
    "plt.show()"
   ]
  },
  {
   "cell_type": "code",
   "execution_count": 156,
   "metadata": {},
   "outputs": [
    {
     "data": {
      "image/png": "[encoded data removed]",
      "text/plain": [
       "<Figure size 1000x600 with 1 Axes>"
      ]
     },
     "metadata": {},
     "output_type": "display_data"
    }
   ],
   "source": [
    "plt.figure(figsize=(10,6))\n",
    "sns.histplot(df ['Votes'],bins=20,kde=True,color='blue')\n",
    "plt.title('distribution of movies votes')\n",
    "plt.xlabel('VOTES')\n",
    "plt.ylabel('frequency')\n",
    "plt.xscale('log')\n",
    "plt.show()"
   ]
  }
 ],
 "metadata": {
  "kernelspec": {
   "display_name": "base",
   "language": "python",
   "name": "python3"
  },
  "language_info": {
   "codemirror_mode": {
    "name": "ipython",
    "version": 3
   },
   "file_extension": ".py",
   "mimetype": "text/x-python",
   "name": "python",
   "nbconvert_exporter": "python",
   "pygments_lexer": "ipython3",
   "version": "3.12.4"
  }
 },
 "nbformat": 4,
 "nbformat_minor": 2
}
